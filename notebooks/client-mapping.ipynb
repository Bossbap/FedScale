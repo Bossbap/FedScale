{
 "cells": [
  {
   "cell_type": "code",
   "execution_count": 2,
   "id": "4638523e",
   "metadata": {},
   "outputs": [],
   "source": [
    "import pandas as pd\n",
    "\n",
    "# Path to the client‐data mapping CSV\n",
    "file_path = \"../benchmark/dataset/data/google_speech/client_data_mapping/train.csv\"\n",
    "\n",
    "df = pd.read_csv(file_path)"
   ]
  },
  {
   "cell_type": "code",
   "execution_count": 3,
   "id": "5151d8d5",
   "metadata": {},
   "outputs": [
    {
     "name": "stdout",
     "output_type": "stream",
     "text": [
      "▶ Loaded 102,851 rows and 4 columns\n",
      "\n",
      "Columns: ['client_id', 'sample_path', 'label_name', 'label_id'] \n",
      "\n",
      "Data types and null counts:\n",
      "<class 'pandas.core.frame.DataFrame'>\n",
      "RangeIndex: 102851 entries, 0 to 102850\n",
      "Data columns (total 4 columns):\n",
      " #   Column       Non-Null Count   Dtype \n",
      "---  ------       --------------   ----- \n",
      " 0   client_id    102851 non-null  int64 \n",
      " 1   sample_path  102851 non-null  object\n",
      " 2   label_name   102851 non-null  object\n",
      " 3   label_id     102851 non-null  int64 \n",
      "dtypes: int64(2), object(2)\n",
      "memory usage: 3.1+ MB\n",
      "None \n",
      "\n"
     ]
    }
   ],
   "source": [
    "print(f\"▶ Loaded {len(df):,} rows and {df.shape[1]} columns\\n\")\n",
    "print(\"Columns:\", df.columns.tolist(), \"\\n\")\n",
    "\n",
    "print(\"Data types and null counts:\")\n",
    "print(df.info(), \"\\n\")"
   ]
  },
  {
   "cell_type": "code",
   "execution_count": 4,
   "id": "a9aba177",
   "metadata": {},
   "outputs": [
    {
     "name": "stdout",
     "output_type": "stream",
     "text": [
      "First 10 rows:\n",
      "   client_id                   sample_path label_name  label_id\n",
      "0       1860    five_f297e878_nohash_0.wav       five         5\n",
      "1       1860    tree_f297e878_nohash_0.wav       tree        13\n",
      "2       1860  marvin_f297e878_nohash_0.wav     marvin         8\n",
      "3       1860     dog_f297e878_nohash_0.wav        dog        22\n",
      "4       1860     off_f297e878_nohash_0.wav        off        26\n",
      "5       1860      on_f297e878_nohash_0.wav         on        27\n",
      "6       1860  sheila_f297e878_nohash_0.wav     sheila         2\n",
      "7       1860   happy_f297e878_nohash_0.wav      happy         7\n",
      "8       1860      up_f297e878_nohash_1.wav         up         0\n",
      "9       1860    stop_f297e878_nohash_1.wav       stop        14 \n",
      "\n"
     ]
    }
   ],
   "source": [
    "print(\"First 10 rows:\")\n",
    "print(df.head(10), \"\\n\")"
   ]
  },
  {
   "cell_type": "code",
   "execution_count": 7,
   "id": "16ced49a",
   "metadata": {},
   "outputs": [
    {
     "name": "stdout",
     "output_type": "stream",
     "text": [
      "Summary statistics:\n",
      "            client_id                 sample_path label_name       label_id\n",
      "count   102851.000000                      102851     102851  102851.000000\n",
      "unique            NaN                      102851         35            NaN\n",
      "top               NaN  five_f297e878_nohash_0.wav        yes            NaN\n",
      "freq              NaN                           1       3961            NaN\n",
      "mean       884.466685                         NaN        NaN      16.039397\n",
      "std        603.260758                         NaN        NaN      10.162138\n",
      "min          0.000000                         NaN        NaN       0.000000\n",
      "25%        370.000000                         NaN        NaN       7.000000\n",
      "50%        788.000000                         NaN        NaN      15.000000\n",
      "75%       1333.000000                         NaN        NaN      25.000000\n",
      "max       2186.000000                         NaN        NaN      34.000000 \n",
      "\n",
      "▶ 2,167 unique clients found\n",
      "\n"
     ]
    }
   ],
   "source": [
    "print(\"Summary statistics:\")\n",
    "print(df.describe(include='all'), \"\\n\")\n",
    "\n",
    "client_counts = df['client_id'].value_counts().sort_index()\n",
    "print(f\"▶ {client_counts.size:,} unique clients found\\n\")"
   ]
  },
  {
   "cell_type": "code",
   "execution_count": 6,
   "id": "a468a7ee",
   "metadata": {},
   "outputs": [
    {
     "name": "stdout",
     "output_type": "stream",
     "text": [
      "Samples per client (first 10 clients):\n",
      "client_id\n",
      "0    100\n",
      "1    116\n",
      "2     30\n",
      "3     30\n",
      "4     30\n",
      "5    122\n",
      "6    112\n",
      "7    116\n",
      "8    105\n",
      "9     20\n",
      "Name: count, dtype: int64 \n",
      "\n",
      "Per‐client sample‐count stats:\n",
      "count    2167.00000\n",
      "mean       47.46239\n",
      "std        36.79712\n",
      "min        17.00000\n",
      "25%        29.00000\n",
      "50%        30.00000\n",
      "75%        33.00000\n",
      "max       316.00000\n",
      "Name: count, dtype: float64\n"
     ]
    }
   ],
   "source": [
    "print(\"Samples per client (first 10 clients):\")\n",
    "print(client_counts.head(10), \"\\n\")\n",
    "\n",
    "print(\"Per‐client sample‐count stats:\")\n",
    "print(client_counts.describe())"
   ]
  }
 ],
 "metadata": {
  "kernelspec": {
   "display_name": "fedscale",
   "language": "python",
   "name": "python3"
  },
  "language_info": {
   "codemirror_mode": {
    "name": "ipython",
    "version": 3
   },
   "file_extension": ".py",
   "mimetype": "text/x-python",
   "name": "python",
   "nbconvert_exporter": "python",
   "pygments_lexer": "ipython3",
   "version": "undefined.undefined.undefined"
  }
 },
 "nbformat": 4,
 "nbformat_minor": 5
}
