{
 "cells": [
  {
   "cell_type": "code",
   "execution_count": 7,
   "id": "54155112",
   "metadata": {},
   "outputs": [
    {
     "name": "stdout",
     "output_type": "stream",
     "text": [
      "IDs with different occurrence counts between 'finished' and 'selected':\n",
      "  Client 1292: finished=0, selected=1\n"
     ]
    }
   ],
   "source": [
    "import re\n",
    "import pickle  # if you need it later; not used here\n",
    "\n",
    "# Path to the log file\n",
    "log_file_path = '../femnist_logging'\n",
    "\n",
    "# Regex patterns\n",
    "finished_pattern = re.compile(r'client (\\d+) finished')\n",
    "selected_pattern = re.compile(r'Selected \\d+ participants to run: \\[([0-9,\\s]+)\\]')\n",
    "\n",
    "# Lists to collect IDs (with duplicates)\n",
    "finished_ids = []\n",
    "selected_ids = []\n",
    "\n",
    "with open(log_file_path, 'r') as f:\n",
    "    for line in f:\n",
    "        # Check for \"client X finished\" lines\n",
    "        m_fin = finished_pattern.search(line)\n",
    "        if m_fin:\n",
    "            finished_ids.append(int(m_fin.group(1)))\n",
    "        \n",
    "        # Check for \"Selected ... participants\" lines\n",
    "        m_sel = selected_pattern.search(line)\n",
    "        if m_sel:\n",
    "            # Extract the comma-separated list inside the brackets\n",
    "            id_list_str = m_sel.group(1)\n",
    "            # Split on commas and strip whitespace, convert to int\n",
    "            ids = [int(x.strip()) for x in id_list_str.split(',') if x.strip()]\n",
    "            selected_ids.extend(ids)\n",
    "\n",
    "# Count occurrences\n",
    "from collections import Counter\n",
    "finished_counts = Counter(finished_ids)\n",
    "selected_counts = Counter(selected_ids)\n",
    "\n",
    "# Find IDs with mismatched counts\n",
    "all_ids = set(finished_counts) | set(selected_counts)\n",
    "mismatches = {cid: (finished_counts.get(cid, 0), selected_counts.get(cid, 0))\n",
    "              for cid in all_ids\n",
    "              if finished_counts.get(cid, 0) != selected_counts.get(cid, 0)}\n",
    "\n",
    "# Print results\n",
    "if mismatches:\n",
    "    print(\"IDs with different occurrence counts between 'finished' and 'selected':\")\n",
    "    for cid, (fin_cnt, sel_cnt) in sorted(mismatches.items()):\n",
    "        print(f\"  Client {cid}: finished={fin_cnt}, selected={sel_cnt}\")\n",
    "else:\n",
    "    print(\"All client IDs appear the same number of times in both collections.\")"
   ]
  }
 ],
 "metadata": {
  "kernelspec": {
   "display_name": "fedscale",
   "language": "python",
   "name": "python3"
  },
  "language_info": {
   "codemirror_mode": {
    "name": "ipython",
    "version": 3
   },
   "file_extension": ".py",
   "mimetype": "text/x-python",
   "name": "python",
   "nbconvert_exporter": "python",
   "pygments_lexer": "ipython3",
   "version": "3.9.22"
  }
 },
 "nbformat": 4,
 "nbformat_minor": 5
}
